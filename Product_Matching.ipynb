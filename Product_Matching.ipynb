{
  "nbformat": 4,
  "nbformat_minor": 0,
  "metadata": {
    "colab": {
      "provenance": []
    },
    "kernelspec": {
      "name": "python3",
      "display_name": "Python 3"
    },
    "language_info": {
      "name": "python"
    }
  },
  "cells": [
    {
      "cell_type": "code",
      "execution_count": 87,
      "metadata": {
        "id": "vrAUIjOrE27X"
      },
      "outputs": [],
      "source": [
        "import gspread as gs\n",
        "import pandas as pd\n",
        "\n",
        "fk =pd.read_csv(r\"https://docs.google.com/spreadsheets/d/185_N7RcbB4uYOh3i5t3MdEQKH8H3owUfOfQakiFEAkY/export?format=csv&gid=114164078\")\n",
        "amzn = pd.read_csv(r\"https://docs.google.com/spreadsheets/d/1_lBaxhR-Gc9_LiuqTOurUTvouD7srnxgiJxKrBuxHB4/export?format=csv&gid=101313524\")"
      ]
    },
    {
      "cell_type": "code",
      "source": [
        "amzn_product = list(amzn['product_name'])\n",
        "amzn_product = [x.lower() for x in amzn_product]\n",
        "fk_product = list(fk['product_name'])\n",
        "fk_product = [x.lower() for x in fk_product]"
      ],
      "metadata": {
        "id": "1MQca21YaOLY"
      },
      "execution_count": 52,
      "outputs": []
    },
    {
      "cell_type": "code",
      "source": [
        "product_choice = input(\"Enter product you want: \")\n",
        "\n",
        "if (product_choice.lower() in amzn_product and product_choice.lower() in fk_product):\n",
        "  amzn_idx = amzn_product.index(product_choice.lower())\n",
        "  fk_idx = fk_product.index(product_choice.lower())\n",
        "  result = {\"Product name in Flipkart\" : fk.loc[fk.index == 1, \"product_name\"].iloc[0],\n",
        "  \"Retail Price in Flipkart\" : fk.loc[fk.index == 1, \"retail_price\"].iloc[0],\n",
        "  \"Discounted Price in Flipkart\" : fk.loc[fk.index == 1, \"discounted_price\"].iloc[0],\n",
        "  \"Product name in Amazon\" : amzn.loc[fk.index == 1, \"product_name\"].iloc[0],\n",
        "  \"Retail Price in Amazon\" : amzn.loc[fk.index == 1, \"retail_price\"].iloc[0],\n",
        "  \"Discounted Price in Amazon\" : amzn.loc[fk.index == 1, \"discounted_price\"].iloc[0]\n",
        "  }\n",
        "  \n",
        "  df = pd.DataFrame(result, index = [1])\n",
        "\n",
        "df"
      ],
      "metadata": {
        "colab": {
          "base_uri": "https://localhost:8080/",
          "height": 194
        },
        "id": "QTVF4IjwX3nP",
        "outputId": "298e7fe3-1aa1-4c0d-9bd0-f3af4ca75627"
      },
      "execution_count": 86,
      "outputs": [
        {
          "output_type": "stream",
          "name": "stdout",
          "text": [
            "Enter product you want: aw bellies\n",
            "Found\n"
          ]
        },
        {
          "output_type": "execute_result",
          "data": {
            "text/plain": [
              "              Product name in Flipkart  Retail Price in Flipkart  \\\n",
              "0  FabHomeDecor Fabric Double Sofa Bed                   32157.0   \n",
              "\n",
              "   Discounted Price in Flipkart               Product name in Amazon  \\\n",
              "0                       22646.0  FabHomeDecor Fabric Double Sofa Bed   \n",
              "\n",
              "   Retail Price in Amazon  Discounted Price in Amazon  \n",
              "0                   32143                       29121  "
            ],
            "text/html": [
              "\n",
              "  <div id=\"df-3dee806c-1b72-433a-80ca-01454dcb468f\">\n",
              "    <div class=\"colab-df-container\">\n",
              "      <div>\n",
              "<style scoped>\n",
              "    .dataframe tbody tr th:only-of-type {\n",
              "        vertical-align: middle;\n",
              "    }\n",
              "\n",
              "    .dataframe tbody tr th {\n",
              "        vertical-align: top;\n",
              "    }\n",
              "\n",
              "    .dataframe thead th {\n",
              "        text-align: right;\n",
              "    }\n",
              "</style>\n",
              "<table border=\"1\" class=\"dataframe\">\n",
              "  <thead>\n",
              "    <tr style=\"text-align: right;\">\n",
              "      <th></th>\n",
              "      <th>Product name in Flipkart</th>\n",
              "      <th>Retail Price in Flipkart</th>\n",
              "      <th>Discounted Price in Flipkart</th>\n",
              "      <th>Product name in Amazon</th>\n",
              "      <th>Retail Price in Amazon</th>\n",
              "      <th>Discounted Price in Amazon</th>\n",
              "    </tr>\n",
              "  </thead>\n",
              "  <tbody>\n",
              "    <tr>\n",
              "      <th>0</th>\n",
              "      <td>FabHomeDecor Fabric Double Sofa Bed</td>\n",
              "      <td>32157.0</td>\n",
              "      <td>22646.0</td>\n",
              "      <td>FabHomeDecor Fabric Double Sofa Bed</td>\n",
              "      <td>32143</td>\n",
              "      <td>29121</td>\n",
              "    </tr>\n",
              "  </tbody>\n",
              "</table>\n",
              "</div>\n",
              "      <button class=\"colab-df-convert\" onclick=\"convertToInteractive('df-3dee806c-1b72-433a-80ca-01454dcb468f')\"\n",
              "              title=\"Convert this dataframe to an interactive table.\"\n",
              "              style=\"display:none;\">\n",
              "        \n",
              "  <svg xmlns=\"http://www.w3.org/2000/svg\" height=\"24px\"viewBox=\"0 0 24 24\"\n",
              "       width=\"24px\">\n",
              "    <path d=\"M0 0h24v24H0V0z\" fill=\"none\"/>\n",
              "    <path d=\"M18.56 5.44l.94 2.06.94-2.06 2.06-.94-2.06-.94-.94-2.06-.94 2.06-2.06.94zm-11 1L8.5 8.5l.94-2.06 2.06-.94-2.06-.94L8.5 2.5l-.94 2.06-2.06.94zm10 10l.94 2.06.94-2.06 2.06-.94-2.06-.94-.94-2.06-.94 2.06-2.06.94z\"/><path d=\"M17.41 7.96l-1.37-1.37c-.4-.4-.92-.59-1.43-.59-.52 0-1.04.2-1.43.59L10.3 9.45l-7.72 7.72c-.78.78-.78 2.05 0 2.83L4 21.41c.39.39.9.59 1.41.59.51 0 1.02-.2 1.41-.59l7.78-7.78 2.81-2.81c.8-.78.8-2.07 0-2.86zM5.41 20L4 18.59l7.72-7.72 1.47 1.35L5.41 20z\"/>\n",
              "  </svg>\n",
              "      </button>\n",
              "      \n",
              "  <style>\n",
              "    .colab-df-container {\n",
              "      display:flex;\n",
              "      flex-wrap:wrap;\n",
              "      gap: 12px;\n",
              "    }\n",
              "\n",
              "    .colab-df-convert {\n",
              "      background-color: #E8F0FE;\n",
              "      border: none;\n",
              "      border-radius: 50%;\n",
              "      cursor: pointer;\n",
              "      display: none;\n",
              "      fill: #1967D2;\n",
              "      height: 32px;\n",
              "      padding: 0 0 0 0;\n",
              "      width: 32px;\n",
              "    }\n",
              "\n",
              "    .colab-df-convert:hover {\n",
              "      background-color: #E2EBFA;\n",
              "      box-shadow: 0px 1px 2px rgba(60, 64, 67, 0.3), 0px 1px 3px 1px rgba(60, 64, 67, 0.15);\n",
              "      fill: #174EA6;\n",
              "    }\n",
              "\n",
              "    [theme=dark] .colab-df-convert {\n",
              "      background-color: #3B4455;\n",
              "      fill: #D2E3FC;\n",
              "    }\n",
              "\n",
              "    [theme=dark] .colab-df-convert:hover {\n",
              "      background-color: #434B5C;\n",
              "      box-shadow: 0px 1px 3px 1px rgba(0, 0, 0, 0.15);\n",
              "      filter: drop-shadow(0px 1px 2px rgba(0, 0, 0, 0.3));\n",
              "      fill: #FFFFFF;\n",
              "    }\n",
              "  </style>\n",
              "\n",
              "      <script>\n",
              "        const buttonEl =\n",
              "          document.querySelector('#df-3dee806c-1b72-433a-80ca-01454dcb468f button.colab-df-convert');\n",
              "        buttonEl.style.display =\n",
              "          google.colab.kernel.accessAllowed ? 'block' : 'none';\n",
              "\n",
              "        async function convertToInteractive(key) {\n",
              "          const element = document.querySelector('#df-3dee806c-1b72-433a-80ca-01454dcb468f');\n",
              "          const dataTable =\n",
              "            await google.colab.kernel.invokeFunction('convertToInteractive',\n",
              "                                                     [key], {});\n",
              "          if (!dataTable) return;\n",
              "\n",
              "          const docLinkHtml = 'Like what you see? Visit the ' +\n",
              "            '<a target=\"_blank\" href=https://colab.research.google.com/notebooks/data_table.ipynb>data table notebook</a>'\n",
              "            + ' to learn more about interactive tables.';\n",
              "          element.innerHTML = '';\n",
              "          dataTable['output_type'] = 'display_data';\n",
              "          await google.colab.output.renderOutput(dataTable, element);\n",
              "          const docLink = document.createElement('div');\n",
              "          docLink.innerHTML = docLinkHtml;\n",
              "          element.appendChild(docLink);\n",
              "        }\n",
              "      </script>\n",
              "    </div>\n",
              "  </div>\n",
              "  "
            ]
          },
          "metadata": {},
          "execution_count": 86
        }
      ]
    }
  ]
}